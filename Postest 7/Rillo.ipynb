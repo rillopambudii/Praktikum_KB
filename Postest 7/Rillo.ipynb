{
 "cells": [
  {
   "cell_type": "markdown",
   "id": "ab67eeca",
   "metadata": {},
   "source": [
    "# POSTTEST 7\n",
    "\n",
    "<h3> Indro Dwi Saputro <br>\n",
    "    2009106099"
   ]
  },
  {
   "cell_type": "markdown",
   "id": "4b6d1835",
   "metadata": {},
   "source": [
    "## TENSORFLOW"
   ]
  },
  {
   "cell_type": "markdown",
   "id": "06d74a05",
   "metadata": {},
   "source": [
    "<b>Import Modul"
   ]
  },
  {
   "cell_type": "code",
   "execution_count": 1,
   "id": "dcabde94",
   "metadata": {},
   "outputs": [],
   "source": [
    "import numpy as np\n",
    "import tensorflow as tf"
   ]
  },
  {
   "cell_type": "markdown",
   "id": "67833efe",
   "metadata": {},
   "source": [
    "<b>Membuat random tensor dengan shape 5:5"
   ]
  },
  {
   "cell_type": "code",
   "execution_count": 3,
   "id": "1574fe38",
   "metadata": {},
   "outputs": [
    {
     "data": {
      "text/plain": [
       "array([[ 0.384662  ,  0.4798931 , -0.296617  ,  0.8446649 , -0.05656386],\n",
       "       [-0.19741069, -0.5774506 ,  1.6412264 , -0.98428965, -1.2909033 ],\n",
       "       [-1.174873  ,  0.93296856,  0.1479086 ,  0.17608076,  0.1366443 ],\n",
       "       [-1.0608447 , -0.9398267 ,  0.15594244,  0.80956125,  0.44797543],\n",
       "       [-1.1371651 ,  0.21056917,  0.15653613,  0.79251504, -0.7092714 ]],\n",
       "      dtype=float32)"
      ]
     },
     "execution_count": 3,
     "metadata": {},
     "output_type": "execute_result"
    }
   ],
   "source": [
    "random_tensor = tf.random.normal([5,5])\n",
    "random_tensor.numpy()"
   ]
  },
  {
   "cell_type": "markdown",
   "id": "30f53853",
   "metadata": {},
   "source": [
    "### Membuat prime tensor list bilangan prima dengan shape 5:5"
   ]
  },
  {
   "cell_type": "code",
   "execution_count": 4,
   "id": "ba4b3b41",
   "metadata": {},
   "outputs": [
    {
     "data": {
      "text/plain": [
       "<tf.Tensor: shape=(5, 5), dtype=float32, numpy=\n",
       "array([[  2.,   3.,   5.,   7.,  11.],\n",
       "       [ 13.,  17.,  19.,  23.,  29.],\n",
       "       [ 31.,  37.,  41.,  43.,  47.],\n",
       "       [ 53.,  59.,  61.,  71.,  73.],\n",
       "       [ 79.,  83.,  89.,  97., 101.]], dtype=float32)>"
      ]
     },
     "execution_count": 4,
     "metadata": {},
     "output_type": "execute_result"
    }
   ],
   "source": [
    "prime_tensor = tf.constant([2, 3, 5, 7, 11, 13, 17, 19, 23, 29, 31, 37, 41, 43, 47, 53, 59, 61, 71, 73, 79, 83, 89, 97, 101], \n",
    "                           shape=[5, 5], dtype=tf.float32)\n",
    "prime_tensor"
   ]
  },
  {
   "cell_type": "markdown",
   "id": "e456b1b4",
   "metadata": {},
   "source": [
    "<b>Perhitungan aritmatika add"
   ]
  },
  {
   "cell_type": "code",
   "execution_count": 5,
   "id": "9c711b0b",
   "metadata": {},
   "outputs": [
    {
     "name": "stdout",
     "output_type": "stream",
     "text": [
      "tf.Tensor(\n",
      "[[  2.384662    3.4798932   4.703383    7.844665   10.943436 ]\n",
      " [ 12.802589   16.42255    20.641226   22.01571    27.709097 ]\n",
      " [ 29.825127   37.93297    41.147907   43.176083   47.136642 ]\n",
      " [ 51.939156   58.060173   61.15594    71.80956    73.447975 ]\n",
      " [ 77.86284    83.21057    89.15654    97.79252   100.290726 ]], shape=(5, 5), dtype=float32)\n"
     ]
    }
   ],
   "source": [
    "print(tf.add(random_tensor, prime_tensor))"
   ]
  },
  {
   "cell_type": "markdown",
   "id": "9ec31750",
   "metadata": {},
   "source": [
    "<b> Perhitungan aritmatika multiply"
   ]
  },
  {
   "cell_type": "code",
   "execution_count": 6,
   "id": "e2064df4",
   "metadata": {},
   "outputs": [
    {
     "name": "stdout",
     "output_type": "stream",
     "text": [
      "tf.Tensor(\n",
      "[[  0.769324     1.4396793   -1.483085     5.912654    -0.62220246]\n",
      " [ -2.566339    -9.81666     31.183302   -22.638662   -37.436195  ]\n",
      " [-36.421062    34.519836     6.0642524    7.5714726    6.422282  ]\n",
      " [-56.224766   -55.449776     9.512489    57.478848    32.702206  ]\n",
      " [-89.836044    17.477242    13.931716    76.87396    -71.636406  ]], shape=(5, 5), dtype=float32)\n"
     ]
    }
   ],
   "source": [
    "print(tf.multiply(random_tensor, prime_tensor))"
   ]
  },
  {
   "cell_type": "markdown",
   "id": "0b240ae1",
   "metadata": {},
   "source": [
    "<b>Perhitungan aritmatika pow"
   ]
  },
  {
   "cell_type": "code",
   "execution_count": 7,
   "id": "5759bab8",
   "metadata": {},
   "outputs": [
    {
     "name": "stdout",
     "output_type": "stream",
     "text": [
      "tf.Tensor(\n",
      "[[ 1.4796485e-01  1.1051812e-01 -2.2960440e-03  3.0675456e-01\n",
      "  -1.8963983e-14]\n",
      " [-6.9154205e-10 -8.8257555e-05  1.2251844e+04 -6.9474763e-01\n",
      "  -1.6440609e+03]\n",
      " [-1.4781502e+02  7.6750159e-02  9.3267481e-35  3.6780043e-33\n",
      "   0.0000000e+00]\n",
      " [-2.2884693e+01 -2.5693288e-02  0.0000000e+00  3.0600580e-07\n",
      "   3.4798140e-26]\n",
      " [-2.5707354e+04  0.0000000e+00  0.0000000e+00  1.5985592e-10\n",
      "  -8.5517595e-16]], shape=(5, 5), dtype=float32)\n"
     ]
    }
   ],
   "source": [
    "print(tf.pow(random_tensor, prime_tensor))"
   ]
  },
  {
   "cell_type": "markdown",
   "id": "40b33e82",
   "metadata": {},
   "source": [
    "<b>Perhitungan aritmatika divide"
   ]
  },
  {
   "cell_type": "code",
   "execution_count": 8,
   "id": "e2768b5a",
   "metadata": {},
   "outputs": [
    {
     "name": "stdout",
     "output_type": "stream",
     "text": [
      "tf.Tensor(\n",
      "[[ 0.192331    0.15996437 -0.0593234   0.12066641 -0.00514217]\n",
      " [-0.01518544 -0.03396768  0.08638034 -0.0427952  -0.04451391]\n",
      " [-0.03789913  0.02521537  0.00360753  0.0040949   0.00290733]\n",
      " [-0.02001594 -0.01592927  0.00255643  0.01140227  0.00613665]\n",
      " [-0.01439449  0.00253698  0.00175883  0.00817026 -0.00702249]], shape=(5, 5), dtype=float32)\n"
     ]
    }
   ],
   "source": [
    "print(tf.divide(random_tensor, prime_tensor))"
   ]
  },
  {
   "cell_type": "markdown",
   "id": "e5fa7465",
   "metadata": {},
   "source": [
    "<b> Perhitungan aritmatika math.log"
   ]
  },
  {
   "cell_type": "code",
   "execution_count": 9,
   "id": "2a41b55a",
   "metadata": {},
   "outputs": [
    {
     "name": "stdout",
     "output_type": "stream",
     "text": [
      "tf.Tensor(\n",
      "[[-0.9553902  -0.73419195         nan -0.16881533         nan]\n",
      " [        nan         nan  0.49544376         nan         nan]\n",
      " [        nan -0.06938378 -1.9111608  -1.7368126  -1.9903741 ]\n",
      " [        nan         nan -1.8582683  -0.21126285 -0.8030169 ]\n",
      " [        nan -1.5579411  -1.8544685  -0.2325438          nan]], shape=(5, 5), dtype=float32)\n"
     ]
    }
   ],
   "source": [
    "print(tf.math.log(random_tensor, prime_tensor))"
   ]
  },
  {
   "cell_type": "markdown",
   "id": "045d37e3",
   "metadata": {},
   "source": [
    "<b> Nilai maximal dari random_tensor"
   ]
  },
  {
   "cell_type": "code",
   "execution_count": 10,
   "id": "4e464813",
   "metadata": {},
   "outputs": [
    {
     "name": "stdout",
     "output_type": "stream",
     "text": [
      "value random tensor: [[ 0.384662    0.4798931  -0.296617    0.8446649  -0.05656386]\n",
      " [-0.19741069 -0.5774506   1.6412264  -0.98428965 -1.2909033 ]\n",
      " [-1.174873    0.93296856  0.1479086   0.17608076  0.1366443 ]\n",
      " [-1.0608447  -0.9398267   0.15594244  0.80956125  0.44797543]\n",
      " [-1.1371651   0.21056917  0.15653613  0.79251504 -0.7092714 ]]\n",
      "maximum value berdasarkan kolom: [0 2 1 0 3]\n",
      "maximum value berdasarkan baris: [3 2 1 3 3]\n"
     ]
    }
   ],
   "source": [
    "print(\"value random tensor:\",random_tensor.numpy())\n",
    "max_random_1 = tf.argmax(random_tensor, axis = 0)\n",
    "max_random_2 = tf.argmax(random_tensor, axis = 1)\n",
    "print(\"maximum value berdasarkan kolom:\",max_random_1.numpy())\n",
    "print(\"maximum value berdasarkan baris:\",max_random_2.numpy())"
   ]
  },
  {
   "cell_type": "markdown",
   "id": "6cf4f8ce",
   "metadata": {},
   "source": [
    "<b> Nilai minimal dari random_tensor"
   ]
  },
  {
   "cell_type": "code",
   "execution_count": 11,
   "id": "2f641dfa",
   "metadata": {},
   "outputs": [
    {
     "name": "stdout",
     "output_type": "stream",
     "text": [
      "value random tensor: [[ 0.384662    0.4798931  -0.296617    0.8446649  -0.05656386]\n",
      " [-0.19741069 -0.5774506   1.6412264  -0.98428965 -1.2909033 ]\n",
      " [-1.174873    0.93296856  0.1479086   0.17608076  0.1366443 ]\n",
      " [-1.0608447  -0.9398267   0.15594244  0.80956125  0.44797543]\n",
      " [-1.1371651   0.21056917  0.15653613  0.79251504 -0.7092714 ]]\n",
      "minimum value berdasarkan kolom: [2 3 0 1 1]\n",
      "minimum value berdasarkan baris: [2 4 0 0 0]\n"
     ]
    }
   ],
   "source": [
    "print(\"value random tensor:\",random_tensor.numpy())\n",
    "min_random_1 = tf.argmin(random_tensor, axis = 0)\n",
    "min_random_2 = tf.argmin(random_tensor, axis = 1)\n",
    "print(\"minimum value berdasarkan kolom:\",min_random_1.numpy())\n",
    "print(\"minimum value berdasarkan baris:\",min_random_2.numpy())"
   ]
  },
  {
   "cell_type": "markdown",
   "id": "9ca7a30a",
   "metadata": {},
   "source": [
    "<h1> Concatenation\n",
    "<h2> Penggabungan variable random_tensor & prime_tensor"
   ]
  },
  {
   "cell_type": "code",
   "execution_count": 12,
   "id": "307d9c10",
   "metadata": {},
   "outputs": [
    {
     "name": "stdout",
     "output_type": "stream",
     "text": [
      "size original data: (5, 5) (5, 5)\n",
      "size concatenated data: (10, 5)\n"
     ]
    }
   ],
   "source": [
    "print(\"size original data:\",random_tensor.shape,prime_tensor.shape)\n",
    "concated_tensor = tf.concat([random_tensor,prime_tensor],axis=0)\n",
    "print(\"size concatenated data:\",concated_tensor.shape)"
   ]
  },
  {
   "cell_type": "markdown",
   "id": "d2e75231",
   "metadata": {},
   "source": [
    "<b> Sorting descending variable random_tensor & prime_tensor"
   ]
  },
  {
   "cell_type": "code",
   "execution_count": 17,
   "id": "3c6397e6",
   "metadata": {},
   "outputs": [
    {
     "name": "stdout",
     "output_type": "stream",
     "text": [
      "value random tensor: \n",
      " [[ 0.384662    0.4798931  -0.296617    0.8446649  -0.05656386]\n",
      " [-0.19741069 -0.5774506   1.6412264  -0.98428965 -1.2909033 ]\n",
      " [-1.174873    0.93296856  0.1479086   0.17608076  0.1366443 ]\n",
      " [-1.0608447  -0.9398267   0.15594244  0.80956125  0.44797543]\n",
      " [-1.1371651   0.21056917  0.15653613  0.79251504 -0.7092714 ]]\n",
      "value prime tensor: \n",
      " [[  2.   3.   5.   7.  11.]\n",
      " [ 13.  17.  19.  23.  29.]\n",
      " [ 31.  37.  41.  43.  47.]\n",
      " [ 53.  59.  61.  71.  73.]\n",
      " [ 79.  83.  89.  97. 101.]]\n",
      "random tensor sorted dengan descending order:\n",
      " [[ 0.8446649   0.4798931   0.384662   -0.05656386 -0.296617  ]\n",
      " [ 1.6412264  -0.19741069 -0.5774506  -0.98428965 -1.2909033 ]\n",
      " [ 0.93296856  0.17608076  0.1479086   0.1366443  -1.174873  ]\n",
      " [ 0.80956125  0.44797543  0.15594244 -0.9398267  -1.0608447 ]\n",
      " [ 0.79251504  0.21056917  0.15653613 -0.7092714  -1.1371651 ]]\n",
      "prime tensor sorted dengan descending order:\n",
      " [[ 11.   7.   5.   3.   2.]\n",
      " [ 29.  23.  19.  17.  13.]\n",
      " [ 47.  43.  41.  37.  31.]\n",
      " [ 73.  71.  61.  59.  53.]\n",
      " [101.  97.  89.  83.  79.]]\n"
     ]
    }
   ],
   "source": [
    "print(\"value random tensor: \\n\",random_tensor.numpy())\n",
    "print(\"value prime tensor: \\n\",prime_tensor.numpy())\n",
    "sorted_random = tf.sort(random_tensor, direction = \"DESCENDING\")\n",
    "print(\"random tensor sorted dengan descending order:\\n\",sorted_random.numpy())\n",
    "sorted_prime = tf.sort(prime_tensor, direction = \"DESCENDING\")\n",
    "print(\"prime tensor sorted dengan descending order:\\n\",sorted_prime.numpy())\n"
   ]
  },
  {
   "cell_type": "code",
   "execution_count": null,
   "id": "8b355a66",
   "metadata": {},
   "outputs": [],
   "source": []
  },
  {
   "cell_type": "code",
   "execution_count": null,
   "id": "0fa85b65",
   "metadata": {},
   "outputs": [],
   "source": []
  },
  {
   "cell_type": "code",
   "execution_count": null,
   "id": "dcc440f9",
   "metadata": {},
   "outputs": [],
   "source": []
  }
 ],
 "metadata": {
  "kernelspec": {
   "display_name": "Python 3.10.7 64-bit",
   "language": "python",
   "name": "python3"
  },
  "language_info": {
   "codemirror_mode": {
    "name": "ipython",
    "version": 3
   },
   "file_extension": ".py",
   "mimetype": "text/x-python",
   "name": "python",
   "nbconvert_exporter": "python",
   "pygments_lexer": "ipython3",
   "version": "3.10.7"
  },
  "vscode": {
   "interpreter": {
    "hash": "6ab117dc72ce47c67ab66370869bf6990376954b483afc3fcd6da587bd0c56af"
   }
  }
 },
 "nbformat": 4,
 "nbformat_minor": 5
}
