{
 "cells": [
  {
   "cell_type": "code",
   "execution_count": 1,
   "id": "709ec10e",
   "metadata": {},
   "outputs": [],
   "source": [
    "import pandas as pd"
   ]
  },
  {
   "cell_type": "markdown",
   "id": "5be49b77",
   "metadata": {},
   "source": [
    "##import Package"
   ]
  },
  {
   "cell_type": "code",
   "execution_count": 11,
   "id": "5775e462",
   "metadata": {},
   "outputs": [],
   "source": [
    "import pandas as pd\n",
    "import matplotlib.pyplot as plt\n",
    "import seaborn as sns\n"
   ]
  },
  {
   "cell_type": "code",
   "execution_count": 3,
   "id": "3a3365ad",
   "metadata": {},
   "outputs": [],
   "source": [
    "df = pd.read_csv('CarRentalData.csv')"
   ]
  },
  {
   "cell_type": "markdown",
   "id": "5024f4c1",
   "metadata": {},
   "source": [
    "##KORELASI DATAFRAME"
   ]
  },
  {
   "cell_type": "markdown",
   "id": "f3fc1410",
   "metadata": {},
   "source": []
  },
  {
   "cell_type": "code",
   "execution_count": 13,
   "id": "7050c936",
   "metadata": {},
   "outputs": [
    {
     "name": "stderr",
     "output_type": "stream",
     "text": [
      "C:\\Users\\HP\\AppData\\Local\\Temp\\ipykernel_14480\\1134722465.py:1: FutureWarning: The default value of numeric_only in DataFrame.corr is deprecated. In a future version, it will default to False. Select only valid columns or specify the value of numeric_only to silence this warning.\n",
      "  df.corr()\n"
     ]
    },
    {
     "data": {
      "text/html": [
       "<div>\n",
       "<style scoped>\n",
       "    .dataframe tbody tr th:only-of-type {\n",
       "        vertical-align: middle;\n",
       "    }\n",
       "\n",
       "    .dataframe tbody tr th {\n",
       "        vertical-align: top;\n",
       "    }\n",
       "\n",
       "    .dataframe thead th {\n",
       "        text-align: right;\n",
       "    }\n",
       "</style>\n",
       "<table border=\"1\" class=\"dataframe\">\n",
       "  <thead>\n",
       "    <tr style=\"text-align: right;\">\n",
       "      <th></th>\n",
       "      <th>rating</th>\n",
       "      <th>renterTripsTaken</th>\n",
       "      <th>reviewCount</th>\n",
       "      <th>location.latitude</th>\n",
       "      <th>location.longitude</th>\n",
       "      <th>owner.id</th>\n",
       "      <th>rate.daily</th>\n",
       "      <th>vehicle.year</th>\n",
       "    </tr>\n",
       "  </thead>\n",
       "  <tbody>\n",
       "    <tr>\n",
       "      <th>rating</th>\n",
       "      <td>1.000000</td>\n",
       "      <td>-0.054883</td>\n",
       "      <td>-0.040144</td>\n",
       "      <td>-0.002643</td>\n",
       "      <td>-0.015799</td>\n",
       "      <td>0.051674</td>\n",
       "      <td>0.086745</td>\n",
       "      <td>0.108765</td>\n",
       "    </tr>\n",
       "    <tr>\n",
       "      <th>renterTripsTaken</th>\n",
       "      <td>-0.054883</td>\n",
       "      <td>1.000000</td>\n",
       "      <td>0.994177</td>\n",
       "      <td>0.010998</td>\n",
       "      <td>-0.053036</td>\n",
       "      <td>-0.331197</td>\n",
       "      <td>-0.104027</td>\n",
       "      <td>-0.123407</td>\n",
       "    </tr>\n",
       "    <tr>\n",
       "      <th>reviewCount</th>\n",
       "      <td>-0.040144</td>\n",
       "      <td>0.994177</td>\n",
       "      <td>1.000000</td>\n",
       "      <td>0.007881</td>\n",
       "      <td>-0.047017</td>\n",
       "      <td>-0.325160</td>\n",
       "      <td>-0.100856</td>\n",
       "      <td>-0.111388</td>\n",
       "    </tr>\n",
       "    <tr>\n",
       "      <th>location.latitude</th>\n",
       "      <td>-0.002643</td>\n",
       "      <td>0.010998</td>\n",
       "      <td>0.007881</td>\n",
       "      <td>1.000000</td>\n",
       "      <td>-0.012547</td>\n",
       "      <td>0.006748</td>\n",
       "      <td>-0.013018</td>\n",
       "      <td>-0.030036</td>\n",
       "    </tr>\n",
       "    <tr>\n",
       "      <th>location.longitude</th>\n",
       "      <td>-0.015799</td>\n",
       "      <td>-0.053036</td>\n",
       "      <td>-0.047017</td>\n",
       "      <td>-0.012547</td>\n",
       "      <td>1.000000</td>\n",
       "      <td>0.020020</td>\n",
       "      <td>0.057446</td>\n",
       "      <td>0.018361</td>\n",
       "    </tr>\n",
       "    <tr>\n",
       "      <th>owner.id</th>\n",
       "      <td>0.051674</td>\n",
       "      <td>-0.331197</td>\n",
       "      <td>-0.325160</td>\n",
       "      <td>0.006748</td>\n",
       "      <td>0.020020</td>\n",
       "      <td>1.000000</td>\n",
       "      <td>-0.011215</td>\n",
       "      <td>0.095297</td>\n",
       "    </tr>\n",
       "    <tr>\n",
       "      <th>rate.daily</th>\n",
       "      <td>0.086745</td>\n",
       "      <td>-0.104027</td>\n",
       "      <td>-0.100856</td>\n",
       "      <td>-0.013018</td>\n",
       "      <td>0.057446</td>\n",
       "      <td>-0.011215</td>\n",
       "      <td>1.000000</td>\n",
       "      <td>0.042639</td>\n",
       "    </tr>\n",
       "    <tr>\n",
       "      <th>vehicle.year</th>\n",
       "      <td>0.108765</td>\n",
       "      <td>-0.123407</td>\n",
       "      <td>-0.111388</td>\n",
       "      <td>-0.030036</td>\n",
       "      <td>0.018361</td>\n",
       "      <td>0.095297</td>\n",
       "      <td>0.042639</td>\n",
       "      <td>1.000000</td>\n",
       "    </tr>\n",
       "  </tbody>\n",
       "</table>\n",
       "</div>"
      ],
      "text/plain": [
       "                      rating  renterTripsTaken  reviewCount  \\\n",
       "rating              1.000000         -0.054883    -0.040144   \n",
       "renterTripsTaken   -0.054883          1.000000     0.994177   \n",
       "reviewCount        -0.040144          0.994177     1.000000   \n",
       "location.latitude  -0.002643          0.010998     0.007881   \n",
       "location.longitude -0.015799         -0.053036    -0.047017   \n",
       "owner.id            0.051674         -0.331197    -0.325160   \n",
       "rate.daily          0.086745         -0.104027    -0.100856   \n",
       "vehicle.year        0.108765         -0.123407    -0.111388   \n",
       "\n",
       "                    location.latitude  location.longitude  owner.id  \\\n",
       "rating                      -0.002643           -0.015799  0.051674   \n",
       "renterTripsTaken             0.010998           -0.053036 -0.331197   \n",
       "reviewCount                  0.007881           -0.047017 -0.325160   \n",
       "location.latitude            1.000000           -0.012547  0.006748   \n",
       "location.longitude          -0.012547            1.000000  0.020020   \n",
       "owner.id                     0.006748            0.020020  1.000000   \n",
       "rate.daily                  -0.013018            0.057446 -0.011215   \n",
       "vehicle.year                -0.030036            0.018361  0.095297   \n",
       "\n",
       "                    rate.daily  vehicle.year  \n",
       "rating                0.086745      0.108765  \n",
       "renterTripsTaken     -0.104027     -0.123407  \n",
       "reviewCount          -0.100856     -0.111388  \n",
       "location.latitude    -0.013018     -0.030036  \n",
       "location.longitude    0.057446      0.018361  \n",
       "owner.id             -0.011215      0.095297  \n",
       "rate.daily            1.000000      0.042639  \n",
       "vehicle.year          0.042639      1.000000  "
      ]
     },
     "execution_count": 13,
     "metadata": {},
     "output_type": "execute_result"
    }
   ],
   "source": [
    "df.corr()"
   ]
  },
  {
   "cell_type": "code",
   "execution_count": 5,
   "id": "1746ecef",
   "metadata": {},
   "outputs": [
    {
     "data": {
      "text/plain": [
       "Index(['fuelType', 'rating', 'renterTripsTaken', 'reviewCount',\n",
       "       'location.city', 'location.country', 'location.latitude',\n",
       "       'location.longitude', 'location.state', 'owner.id', 'rate.daily',\n",
       "       'vehicle.make', 'vehicle.model', 'vehicle.type', 'vehicle.year'],\n",
       "      dtype='object')"
      ]
     },
     "execution_count": 5,
     "metadata": {},
     "output_type": "execute_result"
    }
   ],
   "source": [
    "df.keys()"
   ]
  },
  {
   "cell_type": "markdown",
   "id": "369af0cc",
   "metadata": {},
   "source": [
    "##INFO DATAFRAME"
   ]
  },
  {
   "cell_type": "code",
   "execution_count": 6,
   "id": "6a0c9424",
   "metadata": {},
   "outputs": [
    {
     "data": {
      "text/plain": [
       "<bound method DataFrame.info of       fuelType  rating  renterTripsTaken  reviewCount location.city  \\\n",
       "0     ELECTRIC    5.00                13           12       Seattle   \n",
       "1     ELECTRIC    5.00                 2            1       Tijeras   \n",
       "2       HYBRID    4.92                28           24   Albuquerque   \n",
       "3     GASOLINE    5.00                21           20   Albuquerque   \n",
       "4     GASOLINE    5.00                 3            1   Albuquerque   \n",
       "...        ...     ...               ...          ...           ...   \n",
       "5846  GASOLINE    5.00                32           27      Honolulu   \n",
       "5847    HYBRID    5.00                17           16          Aiea   \n",
       "5848  GASOLINE    4.94                18           17        Kailua   \n",
       "5849  GASOLINE     NaN                 1            0       Waipahu   \n",
       "5850  GASOLINE    5.00                16           14        Kailua   \n",
       "\n",
       "     location.country  location.latitude  location.longitude location.state  \\\n",
       "0                  US          47.449107         -122.308841             WA   \n",
       "1                  US          35.111060         -106.276551             NM   \n",
       "2                  US          35.127163         -106.566681             NM   \n",
       "3                  US          35.149726         -106.711425             NM   \n",
       "4                  US          35.208659         -106.601008             NM   \n",
       "...               ...                ...                 ...            ...   \n",
       "5846               US          21.292950         -157.836856             HI   \n",
       "5847               US          21.375507         -157.914919             HI   \n",
       "5848               US          21.378719         -157.727816             HI   \n",
       "5849               US          21.376105         -158.020237             HI   \n",
       "5850               US          21.378040         -157.730000             HI   \n",
       "\n",
       "      owner.id  rate.daily vehicle.make vehicle.model vehicle.type  \\\n",
       "0     12847615         135        Tesla       Model X          suv   \n",
       "1     15621242         190        Tesla       Model X          suv   \n",
       "2     10199256          35       Toyota         Prius          car   \n",
       "3      9365496          75         Ford       Mustang          car   \n",
       "4      3553565          47     Chrysler       Sebring          car   \n",
       "...        ...         ...          ...           ...          ...   \n",
       "5846   9794111          33    Chevrolet         Cruze          car   \n",
       "5847   2754690          49        Lexus       HS 250h          car   \n",
       "5848  11313508          35        smart        fortwo          car   \n",
       "5849   4209883          77          GMC        Savana          van   \n",
       "5850  11313508          35        smart        fortwo          car   \n",
       "\n",
       "      vehicle.year  \n",
       "0             2019  \n",
       "1             2018  \n",
       "2             2012  \n",
       "3             2018  \n",
       "4             2010  \n",
       "...            ...  \n",
       "5846          2017  \n",
       "5847          2010  \n",
       "5848          2013  \n",
       "5849          2015  \n",
       "5850          2013  \n",
       "\n",
       "[5851 rows x 15 columns]>"
      ]
     },
     "execution_count": 6,
     "metadata": {},
     "output_type": "execute_result"
    }
   ],
   "source": [
    "df.info"
   ]
  },
  {
   "cell_type": "markdown",
   "id": "8fe8ba0f",
   "metadata": {},
   "source": [
    "##DESKRIPSI Data frame"
   ]
  },
  {
   "cell_type": "code",
   "execution_count": 7,
   "id": "8571e329",
   "metadata": {},
   "outputs": [
    {
     "data": {
      "text/plain": [
       "<bound method NDFrame.describe of       fuelType  rating  renterTripsTaken  reviewCount location.city  \\\n",
       "0     ELECTRIC    5.00                13           12       Seattle   \n",
       "1     ELECTRIC    5.00                 2            1       Tijeras   \n",
       "2       HYBRID    4.92                28           24   Albuquerque   \n",
       "3     GASOLINE    5.00                21           20   Albuquerque   \n",
       "4     GASOLINE    5.00                 3            1   Albuquerque   \n",
       "...        ...     ...               ...          ...           ...   \n",
       "5846  GASOLINE    5.00                32           27      Honolulu   \n",
       "5847    HYBRID    5.00                17           16          Aiea   \n",
       "5848  GASOLINE    4.94                18           17        Kailua   \n",
       "5849  GASOLINE     NaN                 1            0       Waipahu   \n",
       "5850  GASOLINE    5.00                16           14        Kailua   \n",
       "\n",
       "     location.country  location.latitude  location.longitude location.state  \\\n",
       "0                  US          47.449107         -122.308841             WA   \n",
       "1                  US          35.111060         -106.276551             NM   \n",
       "2                  US          35.127163         -106.566681             NM   \n",
       "3                  US          35.149726         -106.711425             NM   \n",
       "4                  US          35.208659         -106.601008             NM   \n",
       "...               ...                ...                 ...            ...   \n",
       "5846               US          21.292950         -157.836856             HI   \n",
       "5847               US          21.375507         -157.914919             HI   \n",
       "5848               US          21.378719         -157.727816             HI   \n",
       "5849               US          21.376105         -158.020237             HI   \n",
       "5850               US          21.378040         -157.730000             HI   \n",
       "\n",
       "      owner.id  rate.daily vehicle.make vehicle.model vehicle.type  \\\n",
       "0     12847615         135        Tesla       Model X          suv   \n",
       "1     15621242         190        Tesla       Model X          suv   \n",
       "2     10199256          35       Toyota         Prius          car   \n",
       "3      9365496          75         Ford       Mustang          car   \n",
       "4      3553565          47     Chrysler       Sebring          car   \n",
       "...        ...         ...          ...           ...          ...   \n",
       "5846   9794111          33    Chevrolet         Cruze          car   \n",
       "5847   2754690          49        Lexus       HS 250h          car   \n",
       "5848  11313508          35        smart        fortwo          car   \n",
       "5849   4209883          77          GMC        Savana          van   \n",
       "5850  11313508          35        smart        fortwo          car   \n",
       "\n",
       "      vehicle.year  \n",
       "0             2019  \n",
       "1             2018  \n",
       "2             2012  \n",
       "3             2018  \n",
       "4             2010  \n",
       "...            ...  \n",
       "5846          2017  \n",
       "5847          2010  \n",
       "5848          2013  \n",
       "5849          2015  \n",
       "5850          2013  \n",
       "\n",
       "[5851 rows x 15 columns]>"
      ]
     },
     "execution_count": 7,
     "metadata": {},
     "output_type": "execute_result"
    }
   ],
   "source": [
    "df.describe"
   ]
  },
  {
   "cell_type": "markdown",
   "id": "4b6a6537",
   "metadata": {},
   "source": [
    "Korelasi Dataframe"
   ]
  },
  {
   "cell_type": "code",
   "execution_count": 8,
   "id": "0a25ecfe",
   "metadata": {},
   "outputs": [
    {
     "name": "stderr",
     "output_type": "stream",
     "text": [
      "C:\\Users\\HP\\AppData\\Local\\Temp\\ipykernel_14480\\1134722465.py:1: FutureWarning: The default value of numeric_only in DataFrame.corr is deprecated. In a future version, it will default to False. Select only valid columns or specify the value of numeric_only to silence this warning.\n",
      "  df.corr()\n"
     ]
    },
    {
     "data": {
      "text/html": [
       "<div>\n",
       "<style scoped>\n",
       "    .dataframe tbody tr th:only-of-type {\n",
       "        vertical-align: middle;\n",
       "    }\n",
       "\n",
       "    .dataframe tbody tr th {\n",
       "        vertical-align: top;\n",
       "    }\n",
       "\n",
       "    .dataframe thead th {\n",
       "        text-align: right;\n",
       "    }\n",
       "</style>\n",
       "<table border=\"1\" class=\"dataframe\">\n",
       "  <thead>\n",
       "    <tr style=\"text-align: right;\">\n",
       "      <th></th>\n",
       "      <th>rating</th>\n",
       "      <th>renterTripsTaken</th>\n",
       "      <th>reviewCount</th>\n",
       "      <th>location.latitude</th>\n",
       "      <th>location.longitude</th>\n",
       "      <th>owner.id</th>\n",
       "      <th>rate.daily</th>\n",
       "      <th>vehicle.year</th>\n",
       "    </tr>\n",
       "  </thead>\n",
       "  <tbody>\n",
       "    <tr>\n",
       "      <th>rating</th>\n",
       "      <td>1.000000</td>\n",
       "      <td>-0.054883</td>\n",
       "      <td>-0.040144</td>\n",
       "      <td>-0.002643</td>\n",
       "      <td>-0.015799</td>\n",
       "      <td>0.051674</td>\n",
       "      <td>0.086745</td>\n",
       "      <td>0.108765</td>\n",
       "    </tr>\n",
       "    <tr>\n",
       "      <th>renterTripsTaken</th>\n",
       "      <td>-0.054883</td>\n",
       "      <td>1.000000</td>\n",
       "      <td>0.994177</td>\n",
       "      <td>0.010998</td>\n",
       "      <td>-0.053036</td>\n",
       "      <td>-0.331197</td>\n",
       "      <td>-0.104027</td>\n",
       "      <td>-0.123407</td>\n",
       "    </tr>\n",
       "    <tr>\n",
       "      <th>reviewCount</th>\n",
       "      <td>-0.040144</td>\n",
       "      <td>0.994177</td>\n",
       "      <td>1.000000</td>\n",
       "      <td>0.007881</td>\n",
       "      <td>-0.047017</td>\n",
       "      <td>-0.325160</td>\n",
       "      <td>-0.100856</td>\n",
       "      <td>-0.111388</td>\n",
       "    </tr>\n",
       "    <tr>\n",
       "      <th>location.latitude</th>\n",
       "      <td>-0.002643</td>\n",
       "      <td>0.010998</td>\n",
       "      <td>0.007881</td>\n",
       "      <td>1.000000</td>\n",
       "      <td>-0.012547</td>\n",
       "      <td>0.006748</td>\n",
       "      <td>-0.013018</td>\n",
       "      <td>-0.030036</td>\n",
       "    </tr>\n",
       "    <tr>\n",
       "      <th>location.longitude</th>\n",
       "      <td>-0.015799</td>\n",
       "      <td>-0.053036</td>\n",
       "      <td>-0.047017</td>\n",
       "      <td>-0.012547</td>\n",
       "      <td>1.000000</td>\n",
       "      <td>0.020020</td>\n",
       "      <td>0.057446</td>\n",
       "      <td>0.018361</td>\n",
       "    </tr>\n",
       "    <tr>\n",
       "      <th>owner.id</th>\n",
       "      <td>0.051674</td>\n",
       "      <td>-0.331197</td>\n",
       "      <td>-0.325160</td>\n",
       "      <td>0.006748</td>\n",
       "      <td>0.020020</td>\n",
       "      <td>1.000000</td>\n",
       "      <td>-0.011215</td>\n",
       "      <td>0.095297</td>\n",
       "    </tr>\n",
       "    <tr>\n",
       "      <th>rate.daily</th>\n",
       "      <td>0.086745</td>\n",
       "      <td>-0.104027</td>\n",
       "      <td>-0.100856</td>\n",
       "      <td>-0.013018</td>\n",
       "      <td>0.057446</td>\n",
       "      <td>-0.011215</td>\n",
       "      <td>1.000000</td>\n",
       "      <td>0.042639</td>\n",
       "    </tr>\n",
       "    <tr>\n",
       "      <th>vehicle.year</th>\n",
       "      <td>0.108765</td>\n",
       "      <td>-0.123407</td>\n",
       "      <td>-0.111388</td>\n",
       "      <td>-0.030036</td>\n",
       "      <td>0.018361</td>\n",
       "      <td>0.095297</td>\n",
       "      <td>0.042639</td>\n",
       "      <td>1.000000</td>\n",
       "    </tr>\n",
       "  </tbody>\n",
       "</table>\n",
       "</div>"
      ],
      "text/plain": [
       "                      rating  renterTripsTaken  reviewCount  \\\n",
       "rating              1.000000         -0.054883    -0.040144   \n",
       "renterTripsTaken   -0.054883          1.000000     0.994177   \n",
       "reviewCount        -0.040144          0.994177     1.000000   \n",
       "location.latitude  -0.002643          0.010998     0.007881   \n",
       "location.longitude -0.015799         -0.053036    -0.047017   \n",
       "owner.id            0.051674         -0.331197    -0.325160   \n",
       "rate.daily          0.086745         -0.104027    -0.100856   \n",
       "vehicle.year        0.108765         -0.123407    -0.111388   \n",
       "\n",
       "                    location.latitude  location.longitude  owner.id  \\\n",
       "rating                      -0.002643           -0.015799  0.051674   \n",
       "renterTripsTaken             0.010998           -0.053036 -0.331197   \n",
       "reviewCount                  0.007881           -0.047017 -0.325160   \n",
       "location.latitude            1.000000           -0.012547  0.006748   \n",
       "location.longitude          -0.012547            1.000000  0.020020   \n",
       "owner.id                     0.006748            0.020020  1.000000   \n",
       "rate.daily                  -0.013018            0.057446 -0.011215   \n",
       "vehicle.year                -0.030036            0.018361  0.095297   \n",
       "\n",
       "                    rate.daily  vehicle.year  \n",
       "rating                0.086745      0.108765  \n",
       "renterTripsTaken     -0.104027     -0.123407  \n",
       "reviewCount          -0.100856     -0.111388  \n",
       "location.latitude    -0.013018     -0.030036  \n",
       "location.longitude    0.057446      0.018361  \n",
       "owner.id             -0.011215      0.095297  \n",
       "rate.daily            1.000000      0.042639  \n",
       "vehicle.year          0.042639      1.000000  "
      ]
     },
     "execution_count": 8,
     "metadata": {},
     "output_type": "execute_result"
    }
   ],
   "source": [
    "df.corr()"
   ]
  },
  {
   "cell_type": "markdown",
   "id": "5e364061",
   "metadata": {},
   "source": [
    "##GRAFIK BOXPLOT"
   ]
  },
  {
   "cell_type": "code",
   "execution_count": 14,
   "id": "67e7c4af",
   "metadata": {},
   "outputs": [
    {
     "data": {
      "image/png": "[encoded data removed]",
      "text/plain": [
       "<Figure size 640x480 with 1 Axes>"
      ]
     },
     "metadata": {},
     "output_type": "display_data"
    }
   ],
   "source": [
    "plt.boxplot(df[['rating','reviewCount']], labels=['rating','reviewCount'])\n",
    "plt.show()"
   ]
  },
  {
   "cell_type": "raw",
   "id": "80672f63",
   "metadata": {},
   "source": []
  },
  {
   "cell_type": "markdown",
   "id": "05574aa1",
   "metadata": {},
   "source": [
    "##GRAFIK HEATMAP"
   ]
  },
  {
   "cell_type": "code",
   "execution_count": null,
   "id": "8269d720",
   "metadata": {},
   "outputs": [],
   "source": []
  },
  {
   "cell_type": "code",
   "execution_count": 19,
   "id": "2a7c32fc",
   "metadata": {},
   "outputs": [
    {
     "name": "stderr",
     "output_type": "stream",
     "text": [
      "C:\\Users\\HP\\AppData\\Local\\Temp\\ipykernel_14480\\1837886710.py:1: FutureWarning: The default value of numeric_only in DataFrame.corr is deprecated. In a future version, it will default to False. Select only valid columns or specify the value of numeric_only to silence this warning.\n",
      "  sns.heatmap(data=df.corr(), cmap ='Blues')\n"
     ]
    },
    {
     "data": {
      "text/plain": [
       "<function matplotlib.pyplot.show(close=None, block=None)>"
      ]
     },
     "execution_count": 19,
     "metadata": {},
     "output_type": "execute_result"
    },
    {
     "data": {
      "image/png": "[encoded data removed]",
      "text/plain": [
       "<Figure size 640x480 with 2 Axes>"
      ]
     },
     "metadata": {},
     "output_type": "display_data"
    }
   ],
   "source": [
    "sns.heatmap(data=df.corr(), cmap ='Blues')\n",
    "plt.show"
   ]
  },
  {
   "cell_type": "markdown",
   "id": "6cce37f0",
   "metadata": {},
   "source": [
    "##GRAFIK BATANG"
   ]
  },
  {
   "cell_type": "code",
   "execution_count": 22,
   "id": "f00aa823",
   "metadata": {},
   "outputs": [
    {
     "data": {
      "image/png": "[encoded data removed]",
      "text/plain": [
       "<Figure size 640x480 with 1 Axes>"
      ]
     },
     "metadata": {},
     "output_type": "display_data"
    }
   ],
   "source": [
    "df['rating'].value_counts().plot.bar()\n",
    "plt.show()"
   ]
  },
  {
   "cell_type": "markdown",
   "id": "a128331f",
   "metadata": {},
   "source": [
    "##GRAFIK PIE"
   ]
  },
  {
   "cell_type": "code",
   "execution_count": 30,
   "id": "0938b7a2",
   "metadata": {},
   "outputs": [
    {
     "data": {
      "image/png": "[encoded data removed]",
      "text/plain": [
       "<Figure size 1000x500 with 1 Axes>"
      ]
     },
     "metadata": {},
     "output_type": "display_data"
    }
   ],
   "source": [
    "plt.figure(figsize=(10,5))\n",
    "plt.pie(df['location.country'].value_counts(), labels=['US'], startangle=90, autopct='%.1f%%')\n",
    "plt.show()"
   ]
  },
  {
   "cell_type": "code",
   "execution_count": null,
   "id": "a7488720",
   "metadata": {},
   "outputs": [],
   "source": []
  }
 ],
 "metadata": {
  "kernelspec": {
   "display_name": "Python 3 (ipykernel)",
   "language": "python",
   "name": "python3"
  },
  "language_info": {
   "codemirror_mode": {
    "name": "ipython",
    "version": 3
   },
   "file_extension": ".py",
   "mimetype": "text/x-python",
   "name": "python",
   "nbconvert_exporter": "python",
   "pygments_lexer": "ipython3",
   "version": "3.10.7"
  }
 },
 "nbformat": 4,
 "nbformat_minor": 5
}
